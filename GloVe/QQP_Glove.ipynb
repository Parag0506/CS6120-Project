{
 "cells": [
  {
   "cell_type": "code",
   "execution_count": 10,
   "metadata": {
    "execution": {
     "iopub.execute_input": "2023-03-22T15:44:56.751932Z",
     "iopub.status.busy": "2023-03-22T15:44:56.751643Z",
     "iopub.status.idle": "2023-03-22T15:45:24.159362Z",
     "shell.execute_reply": "2023-03-22T15:45:24.158316Z",
     "shell.execute_reply.started": "2023-03-22T15:44:56.751872Z"
    },
    "id": "oOXsh96-ZD42"
   },
   "outputs": [],
   "source": [
    "#!pip install transformers\n",
    "#!pip install datasets"
   ]
  },
  {
   "cell_type": "code",
   "execution_count": 11,
   "metadata": {
    "_cell_guid": "b1076dfc-b9ad-4769-8c92-a6c4dae69d19",
    "_uuid": "8f2839f25d086af736a60e9eeb907d3b93b6e0e5",
    "colab": {
     "base_uri": "https://localhost:8080/"
    },
    "execution": {
     "iopub.execute_input": "2023-03-22T15:45:58.137329Z",
     "iopub.status.busy": "2023-03-22T15:45:58.136969Z",
     "iopub.status.idle": "2023-03-22T15:46:03.039128Z",
     "shell.execute_reply": "2023-03-22T15:46:03.038048Z",
     "shell.execute_reply.started": "2023-03-22T15:45:58.137277Z"
    },
    "id": "zJWQxcr-ZD43",
    "outputId": "032695c3-832c-435b-b486-4c51f65a9223"
   },
   "outputs": [
    {
     "name": "stderr",
     "output_type": "stream",
     "text": [
      "[nltk_data] Downloading package stopwords to /root/nltk_data...\n",
      "[nltk_data]   Package stopwords is already up-to-date!\n",
      "[nltk_data] Downloading package wordnet to /root/nltk_data...\n",
      "[nltk_data]   Package wordnet is already up-to-date!\n"
     ]
    },
    {
     "data": {
      "text/plain": [
       "True"
      ]
     },
     "execution_count": 11,
     "metadata": {},
     "output_type": "execute_result"
    }
   ],
   "source": [
    "# Dataframe and computation\n",
    "import numpy as np\n",
    "import pandas as pd\n",
    "\n",
    "# Deep learning libraries\n",
    "import tensorflow as tf\n",
    "from tensorflow.keras.layers import *\n",
    "from tensorflow.keras.models import Model\n",
    "from tensorflow.keras.layers import BatchNormalization\n",
    "from keras.preprocessing.text import Tokenizer\n",
    "from tensorflow.keras.preprocessing.sequence import pad_sequences\n",
    "from keras.preprocessing.text import Tokenizer\n",
    "#NLTK and regex libraries\n",
    "import nltk\n",
    "from nltk.tokenize import word_tokenize\n",
    "from nltk.stem import WordNetLemmatizer\n",
    "from nltk.corpus import stopwords\n",
    "import re\n",
    "import string\n",
    "\n",
    "#Sklearn libraries\n",
    "from sklearn.model_selection import train_test_split\n",
    "\n",
    "# Downloads for string cleaning\n",
    "wn = nltk.WordNetLemmatizer()\n",
    "nltk.download('stopwords')\n",
    "nltk.download('wordnet')"
   ]
  },
  {
   "cell_type": "markdown",
   "metadata": {
    "id": "vfU1jtemi8mQ"
   },
   "source": [
    "Import and inspect data"
   ]
  },
  {
   "cell_type": "code",
   "execution_count": 12,
   "metadata": {
    "_cell_guid": "79c7e3d0-c299-4dcb-8224-4455121ee9b0",
    "_uuid": "d629ff2d2480ee46fbb7e2d37f6b5fab8052498a",
    "execution": {
     "iopub.execute_input": "2023-03-22T15:48:08.129279Z",
     "iopub.status.busy": "2023-03-22T15:48:08.128938Z",
     "iopub.status.idle": "2023-03-22T15:48:09.662639Z",
     "shell.execute_reply": "2023-03-22T15:48:09.661559Z",
     "shell.execute_reply.started": "2023-03-22T15:48:08.129222Z"
    },
    "id": "gPnVYDm7ZD45"
   },
   "outputs": [],
   "source": [
    "df = pd.read_csv('/content/train.csv')"
   ]
  },
  {
   "cell_type": "code",
   "execution_count": 13,
   "metadata": {
    "colab": {
     "base_uri": "https://localhost:8080/",
     "height": 206
    },
    "execution": {
     "iopub.execute_input": "2023-03-22T15:48:10.806518Z",
     "iopub.status.busy": "2023-03-22T15:48:10.806176Z",
     "iopub.status.idle": "2023-03-22T15:48:10.826183Z",
     "shell.execute_reply": "2023-03-22T15:48:10.825395Z",
     "shell.execute_reply.started": "2023-03-22T15:48:10.806468Z"
    },
    "id": "HWChYaa6ZD45",
    "outputId": "af065a4e-abfc-427a-d72a-d380ab17eb2a"
   },
   "outputs": [
    {
     "data": {
      "text/html": [
       "\n",
       "  <div id=\"df-2292ded3-e6d0-4c95-b1e2-c69a844c10dd\">\n",
       "    <div class=\"colab-df-container\">\n",
       "      <div>\n",
       "<style scoped>\n",
       "    .dataframe tbody tr th:only-of-type {\n",
       "        vertical-align: middle;\n",
       "    }\n",
       "\n",
       "    .dataframe tbody tr th {\n",
       "        vertical-align: top;\n",
       "    }\n",
       "\n",
       "    .dataframe thead th {\n",
       "        text-align: right;\n",
       "    }\n",
       "</style>\n",
       "<table border=\"1\" class=\"dataframe\">\n",
       "  <thead>\n",
       "    <tr style=\"text-align: right;\">\n",
       "      <th></th>\n",
       "      <th>id</th>\n",
       "      <th>qid1</th>\n",
       "      <th>qid2</th>\n",
       "      <th>question1</th>\n",
       "      <th>question2</th>\n",
       "      <th>is_duplicate</th>\n",
       "    </tr>\n",
       "  </thead>\n",
       "  <tbody>\n",
       "    <tr>\n",
       "      <th>0</th>\n",
       "      <td>0</td>\n",
       "      <td>1</td>\n",
       "      <td>2</td>\n",
       "      <td>What is the step by step guide to invest in sh...</td>\n",
       "      <td>What is the step by step guide to invest in sh...</td>\n",
       "      <td>0</td>\n",
       "    </tr>\n",
       "    <tr>\n",
       "      <th>1</th>\n",
       "      <td>1</td>\n",
       "      <td>3</td>\n",
       "      <td>4</td>\n",
       "      <td>What is the story of Kohinoor (Koh-i-Noor) Dia...</td>\n",
       "      <td>What would happen if the Indian government sto...</td>\n",
       "      <td>0</td>\n",
       "    </tr>\n",
       "    <tr>\n",
       "      <th>2</th>\n",
       "      <td>2</td>\n",
       "      <td>5</td>\n",
       "      <td>6</td>\n",
       "      <td>How can I increase the speed of my internet co...</td>\n",
       "      <td>How can Internet speed be increased by hacking...</td>\n",
       "      <td>0</td>\n",
       "    </tr>\n",
       "    <tr>\n",
       "      <th>3</th>\n",
       "      <td>3</td>\n",
       "      <td>7</td>\n",
       "      <td>8</td>\n",
       "      <td>Why am I mentally very lonely? How can I solve...</td>\n",
       "      <td>Find the remainder when [math]23^{24}[/math] i...</td>\n",
       "      <td>0</td>\n",
       "    </tr>\n",
       "    <tr>\n",
       "      <th>4</th>\n",
       "      <td>4</td>\n",
       "      <td>9</td>\n",
       "      <td>10</td>\n",
       "      <td>Which one dissolve in water quikly sugar, salt...</td>\n",
       "      <td>Which fish would survive in salt water?</td>\n",
       "      <td>0</td>\n",
       "    </tr>\n",
       "  </tbody>\n",
       "</table>\n",
       "</div>\n",
       "      <button class=\"colab-df-convert\" onclick=\"convertToInteractive('df-2292ded3-e6d0-4c95-b1e2-c69a844c10dd')\"\n",
       "              title=\"Convert this dataframe to an interactive table.\"\n",
       "              style=\"display:none;\">\n",
       "        \n",
       "  <svg xmlns=\"http://www.w3.org/2000/svg\" height=\"24px\"viewBox=\"0 0 24 24\"\n",
       "       width=\"24px\">\n",
       "    <path d=\"M0 0h24v24H0V0z\" fill=\"none\"/>\n",
       "    <path d=\"M18.56 5.44l.94 2.06.94-2.06 2.06-.94-2.06-.94-.94-2.06-.94 2.06-2.06.94zm-11 1L8.5 8.5l.94-2.06 2.06-.94-2.06-.94L8.5 2.5l-.94 2.06-2.06.94zm10 10l.94 2.06.94-2.06 2.06-.94-2.06-.94-.94-2.06-.94 2.06-2.06.94z\"/><path d=\"M17.41 7.96l-1.37-1.37c-.4-.4-.92-.59-1.43-.59-.52 0-1.04.2-1.43.59L10.3 9.45l-7.72 7.72c-.78.78-.78 2.05 0 2.83L4 21.41c.39.39.9.59 1.41.59.51 0 1.02-.2 1.41-.59l7.78-7.78 2.81-2.81c.8-.78.8-2.07 0-2.86zM5.41 20L4 18.59l7.72-7.72 1.47 1.35L5.41 20z\"/>\n",
       "  </svg>\n",
       "      </button>\n",
       "      \n",
       "  <style>\n",
       "    .colab-df-container {\n",
       "      display:flex;\n",
       "      flex-wrap:wrap;\n",
       "      gap: 12px;\n",
       "    }\n",
       "\n",
       "    .colab-df-convert {\n",
       "      background-color: #E8F0FE;\n",
       "      border: none;\n",
       "      border-radius: 50%;\n",
       "      cursor: pointer;\n",
       "      display: none;\n",
       "      fill: #1967D2;\n",
       "      height: 32px;\n",
       "      padding: 0 0 0 0;\n",
       "      width: 32px;\n",
       "    }\n",
       "\n",
       "    .colab-df-convert:hover {\n",
       "      background-color: #E2EBFA;\n",
       "      box-shadow: 0px 1px 2px rgba(60, 64, 67, 0.3), 0px 1px 3px 1px rgba(60, 64, 67, 0.15);\n",
       "      fill: #174EA6;\n",
       "    }\n",
       "\n",
       "    [theme=dark] .colab-df-convert {\n",
       "      background-color: #3B4455;\n",
       "      fill: #D2E3FC;\n",
       "    }\n",
       "\n",
       "    [theme=dark] .colab-df-convert:hover {\n",
       "      background-color: #434B5C;\n",
       "      box-shadow: 0px 1px 3px 1px rgba(0, 0, 0, 0.15);\n",
       "      filter: drop-shadow(0px 1px 2px rgba(0, 0, 0, 0.3));\n",
       "      fill: #FFFFFF;\n",
       "    }\n",
       "  </style>\n",
       "\n",
       "      <script>\n",
       "        const buttonEl =\n",
       "          document.querySelector('#df-2292ded3-e6d0-4c95-b1e2-c69a844c10dd button.colab-df-convert');\n",
       "        buttonEl.style.display =\n",
       "          google.colab.kernel.accessAllowed ? 'block' : 'none';\n",
       "\n",
       "        async function convertToInteractive(key) {\n",
       "          const element = document.querySelector('#df-2292ded3-e6d0-4c95-b1e2-c69a844c10dd');\n",
       "          const dataTable =\n",
       "            await google.colab.kernel.invokeFunction('convertToInteractive',\n",
       "                                                     [key], {});\n",
       "          if (!dataTable) return;\n",
       "\n",
       "          const docLinkHtml = 'Like what you see? Visit the ' +\n",
       "            '<a target=\"_blank\" href=https://colab.research.google.com/notebooks/data_table.ipynb>data table notebook</a>'\n",
       "            + ' to learn more about interactive tables.';\n",
       "          element.innerHTML = '';\n",
       "          dataTable['output_type'] = 'display_data';\n",
       "          await google.colab.output.renderOutput(dataTable, element);\n",
       "          const docLink = document.createElement('div');\n",
       "          docLink.innerHTML = docLinkHtml;\n",
       "          element.appendChild(docLink);\n",
       "        }\n",
       "      </script>\n",
       "    </div>\n",
       "  </div>\n",
       "  "
      ],
      "text/plain": [
       "   id  qid1  qid2                                          question1  \\\n",
       "0   0     1     2  What is the step by step guide to invest in sh...   \n",
       "1   1     3     4  What is the story of Kohinoor (Koh-i-Noor) Dia...   \n",
       "2   2     5     6  How can I increase the speed of my internet co...   \n",
       "3   3     7     8  Why am I mentally very lonely? How can I solve...   \n",
       "4   4     9    10  Which one dissolve in water quikly sugar, salt...   \n",
       "\n",
       "                                           question2  is_duplicate  \n",
       "0  What is the step by step guide to invest in sh...             0  \n",
       "1  What would happen if the Indian government sto...             0  \n",
       "2  How can Internet speed be increased by hacking...             0  \n",
       "3  Find the remainder when [math]23^{24}[/math] i...             0  \n",
       "4            Which fish would survive in salt water?             0  "
      ]
     },
     "execution_count": 13,
     "metadata": {},
     "output_type": "execute_result"
    }
   ],
   "source": [
    "df.head()"
   ]
  },
  {
   "cell_type": "markdown",
   "metadata": {
    "id": "oN73N3Yxi_VZ"
   },
   "source": [
    "## Function to clean strings"
   ]
  },
  {
   "cell_type": "code",
   "execution_count": 14,
   "metadata": {
    "id": "UmNnQmoLaeUA"
   },
   "outputs": [],
   "source": [
    "# Cleaning function for the strings\n",
    "def clean_string(input_str):\n",
    "    \n",
    "    # Lowercase the input_string\n",
    "    input_str = input_str.lower()\n",
    "    \n",
    "    # Remove URLs, links\n",
    "    input_str = re.sub(r\"http\\S+\", \"\", input_str)\n",
    "    input_str = re.sub(r\"www.\\S+\", \"\", input_str)\n",
    "    input_str = re.sub(r\"\\S+@\\S+\", \"\", input_str)\n",
    "    \n",
    "    # Remove punctuations\n",
    "    input_str_punc = \"\".join(char for char in input_str if char not in string.punctuation)\n",
    "\n",
    "    # Remove stopwords\n",
    "    stopword = nltk.corpus.stopwords.words('english')\n",
    "    input_str_stopwords = \" \".join([word for word in re.split('\\W+', input_str_punc) if word not in stopword])\n",
    "    \n",
    "    # Lemmatization\n",
    "    input_str_cleaned = \" \".join([wn.lemmatize(word,'n') for word in re.split('\\W+', input_str_stopwords)])\n",
    "\n",
    "    return input_str_cleaned"
   ]
  },
  {
   "cell_type": "markdown",
   "metadata": {
    "id": "6BCHPTZdjBfz"
   },
   "source": [
    "### Apply cleaning function to data"
   ]
  },
  {
   "cell_type": "code",
   "execution_count": 15,
   "metadata": {
    "id": "rly9En0UamuA"
   },
   "outputs": [],
   "source": [
    "df[\"question1\"] = df[\"question1\"].apply(lambda x: clean_string(str(x)))\n",
    "df[\"question2\"] = df[\"question2\"].apply(lambda x: clean_string(str(x)))"
   ]
  },
  {
   "cell_type": "markdown",
   "metadata": {
    "id": "M9jW62KvjEwE"
   },
   "source": [
    "### Split the testing and training data"
   ]
  },
  {
   "cell_type": "code",
   "execution_count": 16,
   "metadata": {
    "id": "Dl0B_c5Ia1tm"
   },
   "outputs": [],
   "source": [
    "train, test = train_test_split(df, test_size=0.3)"
   ]
  },
  {
   "cell_type": "code",
   "execution_count": 17,
   "metadata": {
    "execution": {
     "iopub.execute_input": "2023-03-22T15:48:32.896526Z",
     "iopub.status.busy": "2023-03-22T15:48:32.896178Z",
     "iopub.status.idle": "2023-03-22T15:48:33.020786Z",
     "shell.execute_reply": "2023-03-22T15:48:33.019985Z",
     "shell.execute_reply.started": "2023-03-22T15:48:32.896475Z"
    },
    "id": "jfYv1Rc0ZD46"
   },
   "outputs": [],
   "source": [
    "sent_1_train = train[\"question1\"].values\n",
    "sent_2_train = train[\"question2\"].values\n",
    "Y_train = train[\"is_duplicate\"].values"
   ]
  },
  {
   "cell_type": "code",
   "execution_count": 18,
   "metadata": {
    "id": "h_kbHGPzedPG"
   },
   "outputs": [],
   "source": [
    "sent_1_test = test[\"question1\"].values\n",
    "sent_2_test = test[\"question2\"].values\n",
    "Y_test = test[\"is_duplicate\"].values"
   ]
  },
  {
   "cell_type": "markdown",
   "metadata": {
    "id": "rljIskL3j1Pn"
   },
   "source": [
    "### tokenizing and padding training/testing data"
   ]
  },
  {
   "cell_type": "code",
   "execution_count": 19,
   "metadata": {
    "execution": {
     "iopub.execute_input": "2023-03-22T15:49:10.326757Z",
     "iopub.status.busy": "2023-03-22T15:49:10.326413Z",
     "iopub.status.idle": "2023-03-22T15:49:30.243309Z",
     "shell.execute_reply": "2023-03-22T15:49:30.242175Z",
     "shell.execute_reply.started": "2023-03-22T15:49:10.326705Z"
    },
    "id": "8eCf5bRkZD49"
   },
   "outputs": [],
   "source": [
    "tokenizer = Tokenizer(num_words = 200000)\n",
    "tokenizer.fit_on_texts(list(sent_1_train)+list(sent_2_train))"
   ]
  },
  {
   "cell_type": "code",
   "execution_count": 20,
   "metadata": {
    "execution": {
     "iopub.execute_input": "2023-03-22T15:49:48.096666Z",
     "iopub.status.busy": "2023-03-22T15:49:48.096325Z",
     "iopub.status.idle": "2023-03-22T15:50:10.404545Z",
     "shell.execute_reply": "2023-03-22T15:50:10.403698Z",
     "shell.execute_reply.started": "2023-03-22T15:49:48.096611Z"
    },
    "id": "O5wvNbD1ZD4-"
   },
   "outputs": [],
   "source": [
    "\n",
    "sent_1_train = tokenizer.texts_to_sequences(sent_1_train)\n",
    "sent_1_train_pad = pad_sequences(sent_1_train, maxlen = 30, padding='post')\n",
    "\n",
    "\n",
    "sent_2_train = tokenizer.texts_to_sequences(sent_2_train)\n",
    "sent_2_train_pad = pad_sequences(sent_2_train, maxlen = 30, padding='post')\n"
   ]
  },
  {
   "cell_type": "code",
   "execution_count": 21,
   "metadata": {
    "execution": {
     "iopub.execute_input": "2023-03-22T15:50:16.489023Z",
     "iopub.status.busy": "2023-03-22T15:50:16.488618Z",
     "iopub.status.idle": "2023-03-22T15:50:35.531930Z",
     "shell.execute_reply": "2023-03-22T15:50:35.531035Z",
     "shell.execute_reply.started": "2023-03-22T15:50:16.488967Z"
    },
    "id": "EnVn4RtpZD4-"
   },
   "outputs": [],
   "source": [
    "sent_1_test = tokenizer.texts_to_sequences(sent_1_test)\n",
    "sent_1_test_pad = pad_sequences(sent_1_test,maxlen = 30, padding='post')\n",
    "\n",
    "sent_2_test = tokenizer.texts_to_sequences(sent_2_test)\n",
    "sent_2_test_pad = pad_sequences(sent_2_test, maxlen = 30, padding='post')"
   ]
  },
  {
   "cell_type": "markdown",
   "metadata": {
    "id": "__RUcJj_j4Qu"
   },
   "source": [
    "### Create glove embeddings"
   ]
  },
  {
   "cell_type": "code",
   "execution_count": 22,
   "metadata": {
    "execution": {
     "iopub.execute_input": "2023-03-22T15:50:39.154190Z",
     "iopub.status.busy": "2023-03-22T15:50:39.153804Z",
     "iopub.status.idle": "2023-03-22T15:51:01.466886Z",
     "shell.execute_reply": "2023-03-22T15:51:01.465854Z",
     "shell.execute_reply.started": "2023-03-22T15:50:39.154137Z"
    },
    "id": "8YSsky7GZD4-"
   },
   "outputs": [],
   "source": [
    "word_index = tokenizer.word_index\n",
    "embedding_index = {}\n",
    "with open('/content/glove.6B.200d.txt','r') as f:\n",
    "    for line in f:\n",
    "        values = line.split()\n",
    "        word = values[0]\n",
    "        vectors = np.asarray(values[1:], 'float32')\n",
    "        embedding_index[word] = vectors\n",
    "    f.close()"
   ]
  },
  {
   "cell_type": "code",
   "execution_count": 23,
   "metadata": {
    "execution": {
     "iopub.execute_input": "2023-03-22T15:51:17.914007Z",
     "iopub.status.busy": "2023-03-22T15:51:17.913637Z",
     "iopub.status.idle": "2023-03-22T15:51:18.195777Z",
     "shell.execute_reply": "2023-03-22T15:51:18.194861Z",
     "shell.execute_reply.started": "2023-03-22T15:51:17.913950Z"
    },
    "id": "-O2SZhzHZD4-"
   },
   "outputs": [],
   "source": [
    "embedding_matrix = np.random.random((len(word_index)+1, 200))\n",
    "for word, i in word_index.items():\n",
    "    embedding_vector = embedding_index.get(word)\n",
    "    if embedding_vector is not None:\n",
    "        embedding_matrix[i] = embedding_vector"
   ]
  },
  {
   "cell_type": "markdown",
   "metadata": {
    "id": "iCDLZ-Ucj6GQ"
   },
   "source": [
    "### Tensorflow models"
   ]
  },
  {
   "cell_type": "code",
   "execution_count": 42,
   "metadata": {
    "colab": {
     "base_uri": "https://localhost:8080/"
    },
    "execution": {
     "iopub.execute_input": "2023-03-22T15:51:19.880146Z",
     "iopub.status.busy": "2023-03-22T15:51:19.879775Z",
     "iopub.status.idle": "2023-03-22T15:51:23.155018Z",
     "shell.execute_reply": "2023-03-22T15:51:23.154138Z",
     "shell.execute_reply.started": "2023-03-22T15:51:19.880095Z"
    },
    "id": "EGphZvHlZD4-",
    "outputId": "f5a23d69-f45a-447c-b6fc-258fff8cca6b"
   },
   "outputs": [
    {
     "name": "stderr",
     "output_type": "stream",
     "text": [
      "WARNING:tensorflow:Layer lstm_23 will not use cuDNN kernels since it doesn't meet the criteria. It will use a generic GPU kernel as fallback when running on GPU.\n"
     ]
    }
   ],
   "source": [
    "# Question 1 model\n",
    "model_q1 = tf.keras.Sequential()\n",
    "model_q1.add(Embedding(input_dim = len(word_index)+1,\n",
    "                       output_dim = 200,\n",
    "                      weights = [embedding_matrix],\n",
    "                      input_length = 30))\n",
    "model_q1.add(LSTM(128, activation = 'relu', return_sequences = True))\n",
    "model_q1.add(Dropout(0.25))\n",
    "model_q1.add(LSTM(128, return_sequences = True))\n",
    "model_q1.add(Dropout(0.25))\n",
    "model_q1.add(Dense(64, activation = 'relu'))\n",
    "model_q1.add(Dense(2, activation = 'sigmoid'))"
   ]
  },
  {
   "cell_type": "code",
   "execution_count": 43,
   "metadata": {
    "colab": {
     "base_uri": "https://localhost:8080/"
    },
    "execution": {
     "iopub.execute_input": "2023-03-22T15:51:27.609048Z",
     "iopub.status.busy": "2023-03-22T15:51:27.608666Z",
     "iopub.status.idle": "2023-03-22T15:51:28.458797Z",
     "shell.execute_reply": "2023-03-22T15:51:28.458022Z",
     "shell.execute_reply.started": "2023-03-22T15:51:27.608994Z"
    },
    "id": "ljlaOiIEZD4_",
    "outputId": "e1e49134-843b-4d03-8c52-5464bc47dba9"
   },
   "outputs": [
    {
     "name": "stderr",
     "output_type": "stream",
     "text": [
      "WARNING:tensorflow:Layer lstm_25 will not use cuDNN kernels since it doesn't meet the criteria. It will use a generic GPU kernel as fallback when running on GPU.\n"
     ]
    }
   ],
   "source": [
    "# Quesiton 2 model\n",
    "model_q2 = tf.keras.Sequential()\n",
    "model_q2.add(Embedding(input_dim = len(word_index)+1,\n",
    "                       output_dim = 200,\n",
    "                      weights = [embedding_matrix],\n",
    "                      input_length = 30))\n",
    "model_q2.add(LSTM(128, activation = 'relu', return_sequences = True))\n",
    "model_q2.add(Dropout(0.25))\n",
    "model_q2.add(LSTM(128, return_sequences = True))\n",
    "model_q1.add(Dropout(0.25))\n",
    "model_q2.add(Dense(64, activation = 'relu'))\n",
    "model_q2.add(Dense(2, activation = 'sigmoid'))"
   ]
  },
  {
   "cell_type": "code",
   "execution_count": 44,
   "metadata": {
    "execution": {
     "iopub.execute_input": "2023-03-22T15:51:31.190726Z",
     "iopub.status.busy": "2023-03-22T15:51:31.190391Z",
     "iopub.status.idle": "2023-03-22T15:51:31.249163Z",
     "shell.execute_reply": "2023-03-22T15:51:31.248346Z",
     "shell.execute_reply.started": "2023-03-22T15:51:31.190676Z"
    },
    "id": "vc5jMVQfZD4_"
   },
   "outputs": [],
   "source": [
    "# Merging model output\n",
    "mergedOut = Multiply()([model_q1.output, model_q2.output])\n",
    "\n",
    "mergedOut = Flatten()(mergedOut)\n",
    "mergedOut = Dense(128, activation = 'relu')(mergedOut)\n",
    "mergedOut = Dropout(0.25)(mergedOut)\n",
    "mergedOut = Dense(64, activation = 'relu')(mergedOut)\n",
    "mergedOut = Dropout(0.25)(mergedOut)\n",
    "mergedOut = Dense(2, activation = 'sigmoid')(mergedOut)"
   ]
  },
  {
   "cell_type": "markdown",
   "metadata": {
    "id": "H4xOonJ4j73z"
   },
   "source": [
    "# Train the model"
   ]
  },
  {
   "cell_type": "code",
   "execution_count": 45,
   "metadata": {
    "colab": {
     "base_uri": "https://localhost:8080/"
    },
    "execution": {
     "iopub.execute_input": "2023-03-22T15:51:32.646204Z",
     "iopub.status.busy": "2023-03-22T15:51:32.645826Z",
     "iopub.status.idle": "2023-03-22T16:14:34.564875Z",
     "shell.execute_reply": "2023-03-22T16:14:34.564011Z",
     "shell.execute_reply.started": "2023-03-22T15:51:32.646154Z"
    },
    "id": "c5-ugOt_ZD4_",
    "outputId": "e79be70d-0aba-43ed-b6a8-2c39941aadb5"
   },
   "outputs": [
    {
     "name": "stdout",
     "output_type": "stream",
     "text": [
      "Epoch 1/6\n",
      "142/142 [==============================] - 85s 221ms/step - loss: 0.5807 - accuracy: 0.6887 - val_loss: 0.5303 - val_accuracy: 0.7382\n",
      "Epoch 2/6\n",
      "142/142 [==============================] - 26s 181ms/step - loss: 0.4973 - accuracy: 0.7585 - val_loss: 0.4935 - val_accuracy: 0.7607\n",
      "Epoch 3/6\n",
      "142/142 [==============================] - 23s 162ms/step - loss: 0.4468 - accuracy: 0.7851 - val_loss: 0.4834 - val_accuracy: 0.7621\n",
      "Epoch 4/6\n",
      "142/142 [==============================] - 21s 150ms/step - loss: 0.4003 - accuracy: 0.8100 - val_loss: 0.4797 - val_accuracy: 0.7656\n",
      "Epoch 5/6\n",
      "142/142 [==============================] - 19s 136ms/step - loss: 0.3582 - accuracy: 0.8317 - val_loss: 0.4944 - val_accuracy: 0.7662\n",
      "Epoch 6/6\n",
      "142/142 [==============================] - 20s 140ms/step - loss: 0.3235 - accuracy: 0.8497 - val_loss: 0.5245 - val_accuracy: 0.7515\n"
     ]
    }
   ],
   "source": [
    "new_model = Model([model_q1.input, model_q2.input], mergedOut)\n",
    "new_model.compile(optimizer = 'adam', loss = 'sparse_categorical_crossentropy', metrics = ['accuracy'])\n",
    "history = new_model.fit([sent_1_train_pad,sent_2_train_pad],Y_train, batch_size = 2000, epochs = 6,validation_data=([sent_1_test_pad,sent_2_test_pad],Y_test))"
   ]
  }
 ],
 "metadata": {
  "accelerator": "GPU",
  "colab": {
   "machine_shape": "hm",
   "provenance": []
  },
  "gpuClass": "premium",
  "kernelspec": {
   "display_name": "Python 3 (ipykernel)",
   "language": "python",
   "name": "python3"
  },
  "language_info": {
   "codemirror_mode": {
    "name": "ipython",
    "version": 3
   },
   "file_extension": ".py",
   "mimetype": "text/x-python",
   "name": "python",
   "nbconvert_exporter": "python",
   "pygments_lexer": "ipython3",
   "version": "3.9.13"
  }
 },
 "nbformat": 4,
 "nbformat_minor": 1
}
